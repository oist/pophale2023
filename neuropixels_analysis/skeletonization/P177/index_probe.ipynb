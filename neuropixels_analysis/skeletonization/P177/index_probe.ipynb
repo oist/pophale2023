{
 "cells": [
  {
   "cell_type": "code",
   "execution_count": 1,
   "metadata": {},
   "outputs": [],
   "source": [
    "from probemapper.registration import ANTSPointTransformation, ANTSTransformationStages\n",
    "from probemapper.io import save_nifti\n",
    "import os, subprocess\n",
    "import numpy as np\n",
    "import pandas as pd"
   ]
  },
  {
   "cell_type": "code",
   "execution_count": 2,
   "metadata": {},
   "outputs": [],
   "source": [
    "rootdir = \"/bucket/ReiterU/DBS/data/20220321_P177_laqueus_DiI_3-8_CUBIC/\"\n",
    "resultdir = os.path.join(rootdir, \"analysis\")\n",
    "if not os.path.exists(resultdir):\n",
    "    subprocess.run([\"ssh\", \"deigo\", \"mkdir\", resultdir])"
   ]
  },
  {
   "cell_type": "code",
   "execution_count": 3,
   "metadata": {},
   "outputs": [],
   "source": [
    "cwd = os.path.basename(os.getcwd())\n",
    "tmpdir = os.path.join(\"/flash/ReiterU/tmp/\", cwd, f\"indexing\")\n",
    "if not os.path.exists(tmpdir):\n",
    "    os.makedirs(tmpdir)"
   ]
  },
  {
   "cell_type": "markdown",
   "metadata": {},
   "source": [
    "### Transform channel coordinates"
   ]
  },
  {
   "cell_type": "code",
   "execution_count": 4,
   "metadata": {},
   "outputs": [],
   "source": [
    "T = ANTSPointTransformation(\n",
    "    ants_path=\"/apps/unit/ReiterU/ANTs/2.3.5/bin/\",\n",
    "    num_threads=8\n",
    ")\n",
    "T.set_transformations([\n",
    "    ANTSTransformationStages(transformation=os.path.join(rootdir, \"analysis/ants/F2M_0GenericAffine.mat\"), inverse=True),\n",
    "    ANTSTransformationStages(transformation=os.path.join(rootdir, \"analysis/ants/F2M_1InverseWarp.nii.gz\"), inverse=False),\n",
    "])\n",
    "T.set_moving_points(os.path.join(rootdir, \"analysis/skeleton/channel_skeleton.csv\"))\n",
    "T.set_outname(os.path.join(tmpdir, \"channel_LUT.csv\"))"
   ]
  },
  {
   "cell_type": "code",
   "execution_count": 5,
   "metadata": {},
   "outputs": [
    {
     "name": "stdout",
     "output_type": "stream",
     "text": [
      "['/apps/unit/ReiterU/ANTs/2.3.5/bin/antsApplyTransformsToPoints', '-d', '3', '-i', '/bucket/ReiterU/DBS/data/20220321_P177_laqueus_DiI_3-8_CUBIC/analysis/skeleton/channel_skeleton.csv', '-o', '/flash/ReiterU/tmp/P177/indexing/channel_LUT.csv', '-t', '[/bucket/ReiterU/DBS/data/20220321_P177_laqueus_DiI_3-8_CUBIC/analysis/ants/F2M_0GenericAffine.mat,1]', '-t', '/bucket/ReiterU/DBS/data/20220321_P177_laqueus_DiI_3-8_CUBIC/analysis/ants/F2M_1InverseWarp.nii.gz']\n",
      "\n"
     ]
    }
   ],
   "source": [
    "T.run()"
   ]
  },
  {
   "cell_type": "markdown",
   "metadata": {},
   "source": [
    "### Query region ID"
   ]
  },
  {
   "cell_type": "code",
   "execution_count": 6,
   "metadata": {},
   "outputs": [],
   "source": [
    "from probemapper import skeletonization"
   ]
  },
  {
   "cell_type": "code",
   "execution_count": 7,
   "metadata": {},
   "outputs": [],
   "source": [
    "df = pd.read_csv(os.path.join(tmpdir, \"channel_LUT.csv\"))\n",
    "coords = np.array([df[\"Z\"], df[\"Y\"], df[\"X\"]])"
   ]
  },
  {
   "cell_type": "code",
   "execution_count": 9,
   "metadata": {},
   "outputs": [],
   "source": [
    "regions = skeletonization.query_region_id2(coords,\n",
    "                     \"/bucket/ReiterU/DBS/atlas/O_Laqueues_v0.1/Slicer_3D/Segmentation.seg.nrrd\",\n",
    "                     100, coords.shape[1]-100, 10)"
   ]
  },
  {
   "cell_type": "code",
   "execution_count": 10,
   "metadata": {},
   "outputs": [],
   "source": [
    "df[\"Region\"] = regions"
   ]
  },
  {
   "cell_type": "code",
   "execution_count": 11,
   "metadata": {},
   "outputs": [],
   "source": [
    "df.insert(0, \"channel\", df.pop(\"channel\"))"
   ]
  },
  {
   "cell_type": "code",
   "execution_count": 12,
   "metadata": {
    "scrolled": true
   },
   "outputs": [
    {
     "data": {
      "text/html": [
       "<div>\n",
       "<style scoped>\n",
       "    .dataframe tbody tr th:only-of-type {\n",
       "        vertical-align: middle;\n",
       "    }\n",
       "\n",
       "    .dataframe tbody tr th {\n",
       "        vertical-align: top;\n",
       "    }\n",
       "\n",
       "    .dataframe thead th {\n",
       "        text-align: right;\n",
       "    }\n",
       "</style>\n",
       "<table border=\"1\" class=\"dataframe\">\n",
       "  <thead>\n",
       "    <tr style=\"text-align: right;\">\n",
       "      <th></th>\n",
       "      <th>channel</th>\n",
       "      <th>X</th>\n",
       "      <th>Y</th>\n",
       "      <th>Z</th>\n",
       "      <th>X_org</th>\n",
       "      <th>Y_org</th>\n",
       "      <th>Z_org</th>\n",
       "      <th>Region</th>\n",
       "    </tr>\n",
       "  </thead>\n",
       "  <tbody>\n",
       "    <tr>\n",
       "      <th>0</th>\n",
       "      <td>-100</td>\n",
       "      <td>2292.64</td>\n",
       "      <td>2464.960</td>\n",
       "      <td>1289.13</td>\n",
       "      <td>2201.52</td>\n",
       "      <td>2757.720</td>\n",
       "      <td>683.020</td>\n",
       "      <td>3</td>\n",
       "    </tr>\n",
       "    <tr>\n",
       "      <th>1</th>\n",
       "      <td>-99</td>\n",
       "      <td>2290.62</td>\n",
       "      <td>2457.180</td>\n",
       "      <td>1294.51</td>\n",
       "      <td>2198.23</td>\n",
       "      <td>2749.450</td>\n",
       "      <td>685.180</td>\n",
       "      <td>3</td>\n",
       "    </tr>\n",
       "    <tr>\n",
       "      <th>2</th>\n",
       "      <td>-98</td>\n",
       "      <td>2288.59</td>\n",
       "      <td>2449.410</td>\n",
       "      <td>1299.89</td>\n",
       "      <td>2194.94</td>\n",
       "      <td>2741.180</td>\n",
       "      <td>687.339</td>\n",
       "      <td>3</td>\n",
       "    </tr>\n",
       "    <tr>\n",
       "      <th>3</th>\n",
       "      <td>-97</td>\n",
       "      <td>2286.56</td>\n",
       "      <td>2441.670</td>\n",
       "      <td>1305.25</td>\n",
       "      <td>2191.64</td>\n",
       "      <td>2732.910</td>\n",
       "      <td>689.498</td>\n",
       "      <td>3</td>\n",
       "    </tr>\n",
       "    <tr>\n",
       "      <th>4</th>\n",
       "      <td>-96</td>\n",
       "      <td>2284.52</td>\n",
       "      <td>2433.950</td>\n",
       "      <td>1310.60</td>\n",
       "      <td>2188.35</td>\n",
       "      <td>2724.640</td>\n",
       "      <td>691.658</td>\n",
       "      <td>3</td>\n",
       "    </tr>\n",
       "    <tr>\n",
       "      <th>...</th>\n",
       "      <td>...</td>\n",
       "      <td>...</td>\n",
       "      <td>...</td>\n",
       "      <td>...</td>\n",
       "      <td>...</td>\n",
       "      <td>...</td>\n",
       "      <td>...</td>\n",
       "      <td>...</td>\n",
       "    </tr>\n",
       "    <tr>\n",
       "      <th>336</th>\n",
       "      <td>236</td>\n",
       "      <td>2159.05</td>\n",
       "      <td>1009.520</td>\n",
       "      <td>3542.41</td>\n",
       "      <td>1267.05</td>\n",
       "      <td>403.548</td>\n",
       "      <td>2494.910</td>\n",
       "      <td>1</td>\n",
       "    </tr>\n",
       "    <tr>\n",
       "      <th>337</th>\n",
       "      <td>237</td>\n",
       "      <td>2164.00</td>\n",
       "      <td>1001.310</td>\n",
       "      <td>3551.37</td>\n",
       "      <td>1265.76</td>\n",
       "      <td>395.258</td>\n",
       "      <td>2501.040</td>\n",
       "      <td>1</td>\n",
       "    </tr>\n",
       "    <tr>\n",
       "      <th>338</th>\n",
       "      <td>238</td>\n",
       "      <td>2168.64</td>\n",
       "      <td>992.690</td>\n",
       "      <td>3560.34</td>\n",
       "      <td>1264.15</td>\n",
       "      <td>386.941</td>\n",
       "      <td>2506.860</td>\n",
       "      <td>1</td>\n",
       "    </tr>\n",
       "    <tr>\n",
       "      <th>339</th>\n",
       "      <td>239</td>\n",
       "      <td>2172.82</td>\n",
       "      <td>983.633</td>\n",
       "      <td>3569.19</td>\n",
       "      <td>1262.19</td>\n",
       "      <td>378.597</td>\n",
       "      <td>2512.360</td>\n",
       "      <td>1</td>\n",
       "    </tr>\n",
       "    <tr>\n",
       "      <th>340</th>\n",
       "      <td>240</td>\n",
       "      <td>2176.34</td>\n",
       "      <td>974.229</td>\n",
       "      <td>3577.89</td>\n",
       "      <td>1259.86</td>\n",
       "      <td>370.227</td>\n",
       "      <td>2517.500</td>\n",
       "      <td>1</td>\n",
       "    </tr>\n",
       "  </tbody>\n",
       "</table>\n",
       "<p>341 rows × 8 columns</p>\n",
       "</div>"
      ],
      "text/plain": [
       "     channel        X         Y        Z    X_org     Y_org     Z_org  Region\n",
       "0       -100  2292.64  2464.960  1289.13  2201.52  2757.720   683.020       3\n",
       "1        -99  2290.62  2457.180  1294.51  2198.23  2749.450   685.180       3\n",
       "2        -98  2288.59  2449.410  1299.89  2194.94  2741.180   687.339       3\n",
       "3        -97  2286.56  2441.670  1305.25  2191.64  2732.910   689.498       3\n",
       "4        -96  2284.52  2433.950  1310.60  2188.35  2724.640   691.658       3\n",
       "..       ...      ...       ...      ...      ...       ...       ...     ...\n",
       "336      236  2159.05  1009.520  3542.41  1267.05   403.548  2494.910       1\n",
       "337      237  2164.00  1001.310  3551.37  1265.76   395.258  2501.040       1\n",
       "338      238  2168.64   992.690  3560.34  1264.15   386.941  2506.860       1\n",
       "339      239  2172.82   983.633  3569.19  1262.19   378.597  2512.360       1\n",
       "340      240  2176.34   974.229  3577.89  1259.86   370.227  2517.500       1\n",
       "\n",
       "[341 rows x 8 columns]"
      ]
     },
     "metadata": {},
     "output_type": "display_data"
    }
   ],
   "source": [
    "display(df)"
   ]
  },
  {
   "cell_type": "code",
   "execution_count": 13,
   "metadata": {},
   "outputs": [],
   "source": [
    "df.to_csv(os.path.join(tmpdir, \"channel_LUT.csv\"), index=False)"
   ]
  },
  {
   "cell_type": "code",
   "execution_count": 14,
   "metadata": {},
   "outputs": [],
   "source": [
    "sk = skeletonization.generate_skeleton_image(coords[:, 100:],\n",
    "                             \"/bucket/ReiterU/DBS/atlas/O_Laqueues_v0.1/Slicer_3D/Segmentation.seg.nrrd\",\n",
    "                             10)"
   ]
  },
  {
   "cell_type": "code",
   "execution_count": 15,
   "metadata": {},
   "outputs": [],
   "source": [
    "sk = sk.astype(\"uint8\")\n",
    "save_nifti(sk, os.path.join(tmpdir, \"probe_image.nii.gz\"), 1, 1, 1)"
   ]
  },
  {
   "cell_type": "code",
   "execution_count": 16,
   "metadata": {},
   "outputs": [
    {
     "data": {
      "text/plain": [
       "CompletedProcess(args=['scp', '-r', '/flash/ReiterU/tmp/P177/indexing', 'deigo:/bucket/ReiterU/DBS/data/20220321_P177_laqueus_DiI_3-8_CUBIC/analysis'], returncode=0)"
      ]
     },
     "execution_count": 16,
     "metadata": {},
     "output_type": "execute_result"
    }
   ],
   "source": [
    "subprocess.run([\"scp\", \"-r\", tmpdir, f\"deigo:{resultdir}\"])"
   ]
  },
  {
   "cell_type": "code",
   "execution_count": null,
   "metadata": {},
   "outputs": [],
   "source": []
  }
 ],
 "metadata": {
  "kernelspec": {
   "display_name": "probemapper",
   "language": "python",
   "name": "probemapper"
  },
  "language_info": {
   "codemirror_mode": {
    "name": "ipython",
    "version": 3
   },
   "file_extension": ".py",
   "mimetype": "text/x-python",
   "name": "python",
   "nbconvert_exporter": "python",
   "pygments_lexer": "ipython3",
   "version": "3.7.3"
  }
 },
 "nbformat": 4,
 "nbformat_minor": 4
}
