{
 "cells": [
  {
   "cell_type": "code",
   "execution_count": 1,
   "metadata": {},
   "outputs": [],
   "source": [
    "from probemapper.registration import ANTSPointTransformation, ANTSTransformationStages\n",
    "from probemapper.io import save_nifti\n",
    "import os, subprocess\n",
    "import numpy as np\n",
    "import pandas as pd"
   ]
  },
  {
   "cell_type": "code",
   "execution_count": 2,
   "metadata": {},
   "outputs": [],
   "source": [
    "rootdir = \"/bucket/ReiterU/DBS/data/20220518_P186_laqueus_DiI_L-A2/\"\n",
    "resultdir = os.path.join(rootdir, \"analysis\")\n",
    "if not os.path.exists(resultdir):\n",
    "    subprocess.run([\"ssh\", \"deigo\", \"mkdir\", resultdir])"
   ]
  },
  {
   "cell_type": "code",
   "execution_count": 3,
   "metadata": {},
   "outputs": [],
   "source": [
    "cwd = os.path.basename(os.getcwd())\n",
    "tmpdir = os.path.join(\"/flash/ReiterU/tmp/\", cwd, f\"indexing\")\n",
    "if not os.path.exists(tmpdir):\n",
    "    os.makedirs(tmpdir)"
   ]
  },
  {
   "cell_type": "markdown",
   "metadata": {},
   "source": [
    "### Transform channel coordinates"
   ]
  },
  {
   "cell_type": "code",
   "execution_count": 4,
   "metadata": {},
   "outputs": [],
   "source": [
    "T = ANTSPointTransformation(\n",
    "    ants_path=\"/apps/unit/ReiterU/ANTs/2.3.5/bin/\",\n",
    "    num_threads=8\n",
    ")\n",
    "T.set_transformations([\n",
    "    ANTSTransformationStages(transformation=os.path.join(rootdir, \"analysis/ants/F2M_0GenericAffine.mat\"), inverse=True),\n",
    "    ANTSTransformationStages(transformation=os.path.join(rootdir, \"analysis/ants/F2M_1InverseWarp.nii.gz\"), inverse=False),\n",
    "])\n",
    "T.set_moving_points(os.path.join(rootdir, \"analysis/skeleton/channel_skeleton.csv\"))\n",
    "T.set_outname(os.path.join(tmpdir, \"channel_LUT.csv\"))"
   ]
  },
  {
   "cell_type": "code",
   "execution_count": 5,
   "metadata": {},
   "outputs": [
    {
     "name": "stdout",
     "output_type": "stream",
     "text": [
      "['/apps/unit/ReiterU/ANTs/2.3.5/bin/antsApplyTransformsToPoints', '-d', '3', '-i', '/bucket/ReiterU/DBS/data/20220518_P186_laqueus_DiI_L-A2/analysis/skeleton/channel_skeleton.csv', '-o', '/flash/ReiterU/tmp/P186/indexing/channel_LUT.csv', '-t', '[/bucket/ReiterU/DBS/data/20220518_P186_laqueus_DiI_L-A2/analysis/ants/F2M_0GenericAffine.mat,1]', '-t', '/bucket/ReiterU/DBS/data/20220518_P186_laqueus_DiI_L-A2/analysis/ants/F2M_1InverseWarp.nii.gz']\n",
      "\n"
     ]
    }
   ],
   "source": [
    "T.run()"
   ]
  },
  {
   "cell_type": "markdown",
   "metadata": {},
   "source": [
    "### Query region ID"
   ]
  },
  {
   "cell_type": "code",
   "execution_count": 6,
   "metadata": {},
   "outputs": [],
   "source": [
    "from probemapper import skeletonization"
   ]
  },
  {
   "cell_type": "code",
   "execution_count": 7,
   "metadata": {},
   "outputs": [],
   "source": [
    "df = pd.read_csv(os.path.join(tmpdir, \"channel_LUT.csv\"))\n",
    "coords = np.array([df[\"Z\"], df[\"Y\"], df[\"X\"]])"
   ]
  },
  {
   "cell_type": "code",
   "execution_count": 8,
   "metadata": {},
   "outputs": [],
   "source": [
    "regions = skeletonization.query_region_id2(coords,\n",
    "                     \"/bucket/ReiterU/DBS/atlas/O_Laqueues_v0.1/Slicer_3D/Segmentation.seg.nrrd\",\n",
    "                     100, coords.shape[1]-100, 10)"
   ]
  },
  {
   "cell_type": "code",
   "execution_count": 9,
   "metadata": {},
   "outputs": [],
   "source": [
    "df[\"Region\"] = regions"
   ]
  },
  {
   "cell_type": "code",
   "execution_count": 10,
   "metadata": {},
   "outputs": [],
   "source": [
    "df.insert(0, \"channel\", df.pop(\"channel\"))"
   ]
  },
  {
   "cell_type": "code",
   "execution_count": 11,
   "metadata": {
    "scrolled": true
   },
   "outputs": [
    {
     "data": {
      "text/html": [
       "<div>\n",
       "<style scoped>\n",
       "    .dataframe tbody tr th:only-of-type {\n",
       "        vertical-align: middle;\n",
       "    }\n",
       "\n",
       "    .dataframe tbody tr th {\n",
       "        vertical-align: top;\n",
       "    }\n",
       "\n",
       "    .dataframe thead th {\n",
       "        text-align: right;\n",
       "    }\n",
       "</style>\n",
       "<table border=\"1\" class=\"dataframe\">\n",
       "  <thead>\n",
       "    <tr style=\"text-align: right;\">\n",
       "      <th></th>\n",
       "      <th>channel</th>\n",
       "      <th>X</th>\n",
       "      <th>Y</th>\n",
       "      <th>Z</th>\n",
       "      <th>X_org</th>\n",
       "      <th>Y_org</th>\n",
       "      <th>Z_org</th>\n",
       "      <th>Region</th>\n",
       "    </tr>\n",
       "  </thead>\n",
       "  <tbody>\n",
       "    <tr>\n",
       "      <th>0</th>\n",
       "      <td>-100</td>\n",
       "      <td>2444.38</td>\n",
       "      <td>3619.72</td>\n",
       "      <td>2796.56</td>\n",
       "      <td>1947.48</td>\n",
       "      <td>2596.60</td>\n",
       "      <td>1070.73</td>\n",
       "      <td>9</td>\n",
       "    </tr>\n",
       "    <tr>\n",
       "      <th>1</th>\n",
       "      <td>-99</td>\n",
       "      <td>2443.16</td>\n",
       "      <td>3611.90</td>\n",
       "      <td>2799.35</td>\n",
       "      <td>1945.37</td>\n",
       "      <td>2593.19</td>\n",
       "      <td>1079.97</td>\n",
       "      <td>9</td>\n",
       "    </tr>\n",
       "    <tr>\n",
       "      <th>2</th>\n",
       "      <td>-98</td>\n",
       "      <td>2441.99</td>\n",
       "      <td>3603.56</td>\n",
       "      <td>2802.33</td>\n",
       "      <td>1943.25</td>\n",
       "      <td>2589.78</td>\n",
       "      <td>1089.21</td>\n",
       "      <td>9</td>\n",
       "    </tr>\n",
       "    <tr>\n",
       "      <th>3</th>\n",
       "      <td>-97</td>\n",
       "      <td>2440.91</td>\n",
       "      <td>3594.70</td>\n",
       "      <td>2805.69</td>\n",
       "      <td>1941.14</td>\n",
       "      <td>2586.38</td>\n",
       "      <td>1098.45</td>\n",
       "      <td>9</td>\n",
       "    </tr>\n",
       "    <tr>\n",
       "      <th>4</th>\n",
       "      <td>-96</td>\n",
       "      <td>2439.97</td>\n",
       "      <td>3585.56</td>\n",
       "      <td>2809.37</td>\n",
       "      <td>1939.03</td>\n",
       "      <td>2582.97</td>\n",
       "      <td>1107.68</td>\n",
       "      <td>9</td>\n",
       "    </tr>\n",
       "    <tr>\n",
       "      <th>...</th>\n",
       "      <td>...</td>\n",
       "      <td>...</td>\n",
       "      <td>...</td>\n",
       "      <td>...</td>\n",
       "      <td>...</td>\n",
       "      <td>...</td>\n",
       "      <td>...</td>\n",
       "      <td>...</td>\n",
       "    </tr>\n",
       "    <tr>\n",
       "      <th>287</th>\n",
       "      <td>187</td>\n",
       "      <td>2470.96</td>\n",
       "      <td>1418.89</td>\n",
       "      <td>4084.02</td>\n",
       "      <td>1313.21</td>\n",
       "      <td>1702.56</td>\n",
       "      <td>3717.83</td>\n",
       "      <td>1</td>\n",
       "    </tr>\n",
       "    <tr>\n",
       "      <th>288</th>\n",
       "      <td>188</td>\n",
       "      <td>2471.35</td>\n",
       "      <td>1408.60</td>\n",
       "      <td>4085.29</td>\n",
       "      <td>1310.98</td>\n",
       "      <td>1697.34</td>\n",
       "      <td>3727.12</td>\n",
       "      <td>1</td>\n",
       "    </tr>\n",
       "    <tr>\n",
       "      <th>289</th>\n",
       "      <td>189</td>\n",
       "      <td>2471.99</td>\n",
       "      <td>1397.73</td>\n",
       "      <td>4087.07</td>\n",
       "      <td>1308.77</td>\n",
       "      <td>1692.16</td>\n",
       "      <td>3736.41</td>\n",
       "      <td>1</td>\n",
       "    </tr>\n",
       "    <tr>\n",
       "      <th>290</th>\n",
       "      <td>190</td>\n",
       "      <td>2473.02</td>\n",
       "      <td>1385.39</td>\n",
       "      <td>4090.02</td>\n",
       "      <td>1306.59</td>\n",
       "      <td>1687.04</td>\n",
       "      <td>3745.71</td>\n",
       "      <td>1</td>\n",
       "    </tr>\n",
       "    <tr>\n",
       "      <th>291</th>\n",
       "      <td>191</td>\n",
       "      <td>2474.60</td>\n",
       "      <td>1370.32</td>\n",
       "      <td>4095.09</td>\n",
       "      <td>1304.44</td>\n",
       "      <td>1681.98</td>\n",
       "      <td>3755.00</td>\n",
       "      <td>1</td>\n",
       "    </tr>\n",
       "  </tbody>\n",
       "</table>\n",
       "<p>292 rows × 8 columns</p>\n",
       "</div>"
      ],
      "text/plain": [
       "     channel        X        Y        Z    X_org    Y_org    Z_org  Region\n",
       "0       -100  2444.38  3619.72  2796.56  1947.48  2596.60  1070.73       9\n",
       "1        -99  2443.16  3611.90  2799.35  1945.37  2593.19  1079.97       9\n",
       "2        -98  2441.99  3603.56  2802.33  1943.25  2589.78  1089.21       9\n",
       "3        -97  2440.91  3594.70  2805.69  1941.14  2586.38  1098.45       9\n",
       "4        -96  2439.97  3585.56  2809.37  1939.03  2582.97  1107.68       9\n",
       "..       ...      ...      ...      ...      ...      ...      ...     ...\n",
       "287      187  2470.96  1418.89  4084.02  1313.21  1702.56  3717.83       1\n",
       "288      188  2471.35  1408.60  4085.29  1310.98  1697.34  3727.12       1\n",
       "289      189  2471.99  1397.73  4087.07  1308.77  1692.16  3736.41       1\n",
       "290      190  2473.02  1385.39  4090.02  1306.59  1687.04  3745.71       1\n",
       "291      191  2474.60  1370.32  4095.09  1304.44  1681.98  3755.00       1\n",
       "\n",
       "[292 rows x 8 columns]"
      ]
     },
     "metadata": {},
     "output_type": "display_data"
    }
   ],
   "source": [
    "display(df)"
   ]
  },
  {
   "cell_type": "code",
   "execution_count": 12,
   "metadata": {},
   "outputs": [],
   "source": [
    "df.to_csv(os.path.join(tmpdir, \"channel_LUT.csv\"), index=False)"
   ]
  },
  {
   "cell_type": "code",
   "execution_count": 13,
   "metadata": {},
   "outputs": [],
   "source": [
    "sk = skeletonization.generate_skeleton_image(coords[:, 100:],\n",
    "                             \"/bucket/ReiterU/DBS/atlas/O_Laqueues_v0.1/Slicer_3D/Segmentation.seg.nrrd\",\n",
    "                             10)"
   ]
  },
  {
   "cell_type": "code",
   "execution_count": 14,
   "metadata": {},
   "outputs": [],
   "source": [
    "sk = sk.astype(\"uint8\")\n",
    "save_nifti(sk, os.path.join(tmpdir, \"probe_image.nii.gz\"), 1, 1, 1)"
   ]
  },
  {
   "cell_type": "code",
   "execution_count": 15,
   "metadata": {},
   "outputs": [
    {
     "data": {
      "text/plain": [
       "CompletedProcess(args=['scp', '-r', '/flash/ReiterU/tmp/P186/indexing', 'deigo:/bucket/ReiterU/DBS/data/20220518_P186_laqueus_DiI_L-A2/analysis'], returncode=0)"
      ]
     },
     "execution_count": 15,
     "metadata": {},
     "output_type": "execute_result"
    }
   ],
   "source": [
    "subprocess.run([\"scp\", \"-r\", tmpdir, f\"deigo:{resultdir}\"])"
   ]
  },
  {
   "cell_type": "code",
   "execution_count": null,
   "metadata": {},
   "outputs": [],
   "source": []
  }
 ],
 "metadata": {
  "kernelspec": {
   "display_name": "probemapper",
   "language": "python",
   "name": "probemapper"
  },
  "language_info": {
   "codemirror_mode": {
    "name": "ipython",
    "version": 3
   },
   "file_extension": ".py",
   "mimetype": "text/x-python",
   "name": "python",
   "nbconvert_exporter": "python",
   "pygments_lexer": "ipython3",
   "version": "3.7.3"
  }
 },
 "nbformat": 4,
 "nbformat_minor": 4
}
