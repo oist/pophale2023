{
 "cells": [
  {
   "cell_type": "code",
   "execution_count": 1,
   "metadata": {},
   "outputs": [],
   "source": [
    "from probemapper.registration import ANTSPointTransformation, ANTSTransformationStages\n",
    "from probemapper.io import save_nifti\n",
    "import os, subprocess\n",
    "import numpy as np\n",
    "import pandas as pd"
   ]
  },
  {
   "cell_type": "code",
   "execution_count": 2,
   "metadata": {},
   "outputs": [],
   "source": [
    "rootdir = \"/bucket/ReiterU/DBS/data/20220526_P189_laqueus_DiI_L-J30/\"\n",
    "resultdir = os.path.join(rootdir, \"analysis\")\n",
    "if not os.path.exists(resultdir):\n",
    "    subprocess.run([\"ssh\", \"deigo\", \"mkdir\", resultdir])"
   ]
  },
  {
   "cell_type": "code",
   "execution_count": 3,
   "metadata": {},
   "outputs": [],
   "source": [
    "cwd = os.path.basename(os.getcwd())\n",
    "tmpdir = os.path.join(\"/flash/ReiterU/tmp/\", cwd, f\"indexing\")\n",
    "if not os.path.exists(tmpdir):\n",
    "    os.makedirs(tmpdir)"
   ]
  },
  {
   "cell_type": "markdown",
   "metadata": {},
   "source": [
    "### Transform channel coordinates"
   ]
  },
  {
   "cell_type": "code",
   "execution_count": 4,
   "metadata": {},
   "outputs": [],
   "source": [
    "T = ANTSPointTransformation(\n",
    "    ants_path=\"/apps/unit/ReiterU/ANTs/2.3.5/bin/\",\n",
    "    num_threads=8\n",
    ")\n",
    "T.set_transformations([\n",
    "    ANTSTransformationStages(transformation=os.path.join(rootdir, \"analysis/ants/F2M_0GenericAffine.mat\"), inverse=True),\n",
    "    ANTSTransformationStages(transformation=os.path.join(rootdir, \"analysis/ants/F2M_1InverseWarp.nii.gz\"), inverse=False),\n",
    "])\n",
    "T.set_moving_points(os.path.join(rootdir, \"analysis/skeleton/channel_skeleton.csv\"))\n",
    "T.set_outname(os.path.join(tmpdir, \"channel_LUT.csv\"))"
   ]
  },
  {
   "cell_type": "code",
   "execution_count": 5,
   "metadata": {},
   "outputs": [
    {
     "name": "stdout",
     "output_type": "stream",
     "text": [
      "['/apps/unit/ReiterU/ANTs/2.3.5/bin/antsApplyTransformsToPoints', '-d', '3', '-i', '/bucket/ReiterU/DBS/data/20220526_P189_laqueus_DiI_L-J30/analysis/skeleton/channel_skeleton.csv', '-o', '/flash/ReiterU/tmp/P189/indexing/channel_LUT.csv', '-t', '[/bucket/ReiterU/DBS/data/20220526_P189_laqueus_DiI_L-J30/analysis/ants/F2M_0GenericAffine.mat,1]', '-t', '/bucket/ReiterU/DBS/data/20220526_P189_laqueus_DiI_L-J30/analysis/ants/F2M_1InverseWarp.nii.gz']\n",
      "\n"
     ]
    }
   ],
   "source": [
    "T.run()"
   ]
  },
  {
   "cell_type": "markdown",
   "metadata": {},
   "source": [
    "### Query region ID"
   ]
  },
  {
   "cell_type": "code",
   "execution_count": 6,
   "metadata": {},
   "outputs": [],
   "source": [
    "from probemapper import skeletonization"
   ]
  },
  {
   "cell_type": "code",
   "execution_count": 7,
   "metadata": {},
   "outputs": [],
   "source": [
    "df = pd.read_csv(os.path.join(tmpdir, \"channel_LUT.csv\"))\n",
    "coords = np.array([df[\"Z\"], df[\"Y\"], df[\"X\"]])"
   ]
  },
  {
   "cell_type": "code",
   "execution_count": 8,
   "metadata": {},
   "outputs": [],
   "source": [
    "regions = skeletonization.query_region_id2(coords,\n",
    "                     \"/bucket/ReiterU/DBS/atlas/O_Laqueues_v0.1/Slicer_3D/Segmentation.seg.nrrd\",\n",
    "                     100, coords.shape[1]-100, 10)"
   ]
  },
  {
   "cell_type": "code",
   "execution_count": 9,
   "metadata": {},
   "outputs": [],
   "source": [
    "df[\"Region\"] = regions"
   ]
  },
  {
   "cell_type": "code",
   "execution_count": 10,
   "metadata": {},
   "outputs": [],
   "source": [
    "df.insert(0, \"channel\", df.pop(\"channel\"))"
   ]
  },
  {
   "cell_type": "code",
   "execution_count": 11,
   "metadata": {
    "scrolled": true
   },
   "outputs": [
    {
     "data": {
      "text/html": [
       "<div>\n",
       "<style scoped>\n",
       "    .dataframe tbody tr th:only-of-type {\n",
       "        vertical-align: middle;\n",
       "    }\n",
       "\n",
       "    .dataframe tbody tr th {\n",
       "        vertical-align: top;\n",
       "    }\n",
       "\n",
       "    .dataframe thead th {\n",
       "        text-align: right;\n",
       "    }\n",
       "</style>\n",
       "<table border=\"1\" class=\"dataframe\">\n",
       "  <thead>\n",
       "    <tr style=\"text-align: right;\">\n",
       "      <th></th>\n",
       "      <th>channel</th>\n",
       "      <th>X</th>\n",
       "      <th>Y</th>\n",
       "      <th>Z</th>\n",
       "      <th>X_org</th>\n",
       "      <th>Y_org</th>\n",
       "      <th>Z_org</th>\n",
       "      <th>Region</th>\n",
       "    </tr>\n",
       "  </thead>\n",
       "  <tbody>\n",
       "    <tr>\n",
       "      <th>0</th>\n",
       "      <td>-100</td>\n",
       "      <td>1527.27</td>\n",
       "      <td>2421.650</td>\n",
       "      <td>815.316</td>\n",
       "      <td>1506.84</td>\n",
       "      <td>3033.210</td>\n",
       "      <td>910.192</td>\n",
       "      <td>3</td>\n",
       "    </tr>\n",
       "    <tr>\n",
       "      <th>1</th>\n",
       "      <td>-99</td>\n",
       "      <td>1530.92</td>\n",
       "      <td>2414.380</td>\n",
       "      <td>823.537</td>\n",
       "      <td>1509.64</td>\n",
       "      <td>3025.230</td>\n",
       "      <td>914.787</td>\n",
       "      <td>3</td>\n",
       "    </tr>\n",
       "    <tr>\n",
       "      <th>2</th>\n",
       "      <td>-98</td>\n",
       "      <td>1534.56</td>\n",
       "      <td>2407.080</td>\n",
       "      <td>831.787</td>\n",
       "      <td>1512.45</td>\n",
       "      <td>3017.240</td>\n",
       "      <td>919.383</td>\n",
       "      <td>3</td>\n",
       "    </tr>\n",
       "    <tr>\n",
       "      <th>3</th>\n",
       "      <td>-97</td>\n",
       "      <td>1538.20</td>\n",
       "      <td>2399.750</td>\n",
       "      <td>840.067</td>\n",
       "      <td>1515.26</td>\n",
       "      <td>3009.260</td>\n",
       "      <td>923.978</td>\n",
       "      <td>3</td>\n",
       "    </tr>\n",
       "    <tr>\n",
       "      <th>4</th>\n",
       "      <td>-96</td>\n",
       "      <td>1541.82</td>\n",
       "      <td>2392.380</td>\n",
       "      <td>848.380</td>\n",
       "      <td>1518.07</td>\n",
       "      <td>3001.280</td>\n",
       "      <td>928.573</td>\n",
       "      <td>3</td>\n",
       "    </tr>\n",
       "    <tr>\n",
       "      <th>...</th>\n",
       "      <td>...</td>\n",
       "      <td>...</td>\n",
       "      <td>...</td>\n",
       "      <td>...</td>\n",
       "      <td>...</td>\n",
       "      <td>...</td>\n",
       "      <td>...</td>\n",
       "      <td>...</td>\n",
       "    </tr>\n",
       "    <tr>\n",
       "      <th>347</th>\n",
       "      <td>247</td>\n",
       "      <td>2294.35</td>\n",
       "      <td>951.369</td>\n",
       "      <td>3538.800</td>\n",
       "      <td>1971.29</td>\n",
       "      <td>357.306</td>\n",
       "      <td>2887.060</td>\n",
       "      <td>1</td>\n",
       "    </tr>\n",
       "    <tr>\n",
       "      <th>348</th>\n",
       "      <td>248</td>\n",
       "      <td>2293.72</td>\n",
       "      <td>948.311</td>\n",
       "      <td>3548.100</td>\n",
       "      <td>1970.29</td>\n",
       "      <td>351.514</td>\n",
       "      <td>2895.240</td>\n",
       "      <td>1</td>\n",
       "    </tr>\n",
       "    <tr>\n",
       "      <th>349</th>\n",
       "      <td>249</td>\n",
       "      <td>2292.82</td>\n",
       "      <td>945.753</td>\n",
       "      <td>3557.490</td>\n",
       "      <td>1969.10</td>\n",
       "      <td>345.816</td>\n",
       "      <td>2903.480</td>\n",
       "      <td>1</td>\n",
       "    </tr>\n",
       "    <tr>\n",
       "      <th>350</th>\n",
       "      <td>250</td>\n",
       "      <td>2291.59</td>\n",
       "      <td>943.695</td>\n",
       "      <td>3567.000</td>\n",
       "      <td>1967.73</td>\n",
       "      <td>340.212</td>\n",
       "      <td>2911.780</td>\n",
       "      <td>1</td>\n",
       "    </tr>\n",
       "    <tr>\n",
       "      <th>351</th>\n",
       "      <td>251</td>\n",
       "      <td>2289.98</td>\n",
       "      <td>942.215</td>\n",
       "      <td>3576.590</td>\n",
       "      <td>1966.17</td>\n",
       "      <td>334.707</td>\n",
       "      <td>2920.150</td>\n",
       "      <td>1</td>\n",
       "    </tr>\n",
       "  </tbody>\n",
       "</table>\n",
       "<p>352 rows × 8 columns</p>\n",
       "</div>"
      ],
      "text/plain": [
       "     channel        X         Y         Z    X_org     Y_org     Z_org  Region\n",
       "0       -100  1527.27  2421.650   815.316  1506.84  3033.210   910.192       3\n",
       "1        -99  1530.92  2414.380   823.537  1509.64  3025.230   914.787       3\n",
       "2        -98  1534.56  2407.080   831.787  1512.45  3017.240   919.383       3\n",
       "3        -97  1538.20  2399.750   840.067  1515.26  3009.260   923.978       3\n",
       "4        -96  1541.82  2392.380   848.380  1518.07  3001.280   928.573       3\n",
       "..       ...      ...       ...       ...      ...       ...       ...     ...\n",
       "347      247  2294.35   951.369  3538.800  1971.29   357.306  2887.060       1\n",
       "348      248  2293.72   948.311  3548.100  1970.29   351.514  2895.240       1\n",
       "349      249  2292.82   945.753  3557.490  1969.10   345.816  2903.480       1\n",
       "350      250  2291.59   943.695  3567.000  1967.73   340.212  2911.780       1\n",
       "351      251  2289.98   942.215  3576.590  1966.17   334.707  2920.150       1\n",
       "\n",
       "[352 rows x 8 columns]"
      ]
     },
     "metadata": {},
     "output_type": "display_data"
    }
   ],
   "source": [
    "display(df)"
   ]
  },
  {
   "cell_type": "code",
   "execution_count": 12,
   "metadata": {},
   "outputs": [],
   "source": [
    "df.to_csv(os.path.join(tmpdir, \"channel_LUT.csv\"), index=False)"
   ]
  },
  {
   "cell_type": "code",
   "execution_count": 13,
   "metadata": {},
   "outputs": [],
   "source": [
    "sk = skeletonization.generate_skeleton_image(coords[:, 100:],\n",
    "                             \"/bucket/ReiterU/DBS/atlas/O_Laqueues_v0.1/Slicer_3D/Segmentation.seg.nrrd\",\n",
    "                             10)"
   ]
  },
  {
   "cell_type": "code",
   "execution_count": 14,
   "metadata": {},
   "outputs": [],
   "source": [
    "sk = sk.astype(\"uint8\")\n",
    "save_nifti(sk, os.path.join(tmpdir, \"probe_image.nii.gz\"), 1, 1, 1)"
   ]
  },
  {
   "cell_type": "code",
   "execution_count": 15,
   "metadata": {},
   "outputs": [
    {
     "data": {
      "text/plain": [
       "CompletedProcess(args=['scp', '-r', '/flash/ReiterU/tmp/P189/indexing', 'deigo:/bucket/ReiterU/DBS/data/20220526_P189_laqueus_DiI_L-J30/analysis'], returncode=0)"
      ]
     },
     "execution_count": 15,
     "metadata": {},
     "output_type": "execute_result"
    }
   ],
   "source": [
    "subprocess.run([\"scp\", \"-r\", tmpdir, f\"deigo:{resultdir}\"])"
   ]
  },
  {
   "cell_type": "code",
   "execution_count": null,
   "metadata": {},
   "outputs": [],
   "source": []
  }
 ],
 "metadata": {
  "kernelspec": {
   "display_name": "probemapper",
   "language": "python",
   "name": "probemapper"
  },
  "language_info": {
   "codemirror_mode": {
    "name": "ipython",
    "version": 3
   },
   "file_extension": ".py",
   "mimetype": "text/x-python",
   "name": "python",
   "nbconvert_exporter": "python",
   "pygments_lexer": "ipython3",
   "version": "3.7.3"
  }
 },
 "nbformat": 4,
 "nbformat_minor": 4
}
