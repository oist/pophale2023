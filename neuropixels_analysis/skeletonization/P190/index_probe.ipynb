{
 "cells": [
  {
   "cell_type": "code",
   "execution_count": 1,
   "metadata": {},
   "outputs": [],
   "source": [
    "from probemapper.registration import ANTSPointTransformation, ANTSTransformationStages\n",
    "from probemapper.io import save_nifti\n",
    "import os, subprocess\n",
    "import numpy as np\n",
    "import pandas as pd"
   ]
  },
  {
   "cell_type": "code",
   "execution_count": 2,
   "metadata": {},
   "outputs": [],
   "source": [
    "rootdir = \"/bucket/ReiterU/DBS/data/20220526_P190_laqueus_DiI_L-F11/\"\n",
    "resultdir = os.path.join(rootdir, \"analysis\")\n",
    "if not os.path.exists(resultdir):\n",
    "    subprocess.run([\"ssh\", \"deigo\", \"mkdir\", resultdir])"
   ]
  },
  {
   "cell_type": "code",
   "execution_count": 3,
   "metadata": {},
   "outputs": [],
   "source": [
    "cwd = os.path.basename(os.getcwd())\n",
    "tmpdir = os.path.join(\"/flash/ReiterU/tmp/\", cwd, f\"indexing\")\n",
    "if not os.path.exists(tmpdir):\n",
    "    os.makedirs(tmpdir)"
   ]
  },
  {
   "cell_type": "markdown",
   "metadata": {},
   "source": [
    "### Transform channel coordinates"
   ]
  },
  {
   "cell_type": "code",
   "execution_count": 4,
   "metadata": {},
   "outputs": [],
   "source": [
    "T = ANTSPointTransformation(\n",
    "    ants_path=\"/apps/unit/ReiterU/ANTs/2.3.5/bin/\",\n",
    "    num_threads=8\n",
    ")\n",
    "T.set_transformations([\n",
    "    ANTSTransformationStages(transformation=os.path.join(rootdir, \"analysis/ants/F2M_0GenericAffine.mat\"), inverse=True),\n",
    "    ANTSTransformationStages(transformation=os.path.join(rootdir, \"analysis/ants/F2M_1InverseWarp.nii.gz\"), inverse=False),\n",
    "])\n",
    "T.set_moving_points(os.path.join(rootdir, \"analysis/skeleton/channel_skeleton.csv\"))\n",
    "T.set_outname(os.path.join(tmpdir, \"channel_LUT.csv\"))"
   ]
  },
  {
   "cell_type": "code",
   "execution_count": 5,
   "metadata": {},
   "outputs": [
    {
     "name": "stdout",
     "output_type": "stream",
     "text": [
      "['/apps/unit/ReiterU/ANTs/2.3.5/bin/antsApplyTransformsToPoints', '-d', '3', '-i', '/bucket/ReiterU/DBS/data/20220526_P190_laqueus_DiI_L-F11/analysis/skeleton/channel_skeleton.csv', '-o', '/flash/ReiterU/tmp/P190/indexing/channel_LUT.csv', '-t', '[/bucket/ReiterU/DBS/data/20220526_P190_laqueus_DiI_L-F11/analysis/ants/F2M_0GenericAffine.mat,1]', '-t', '/bucket/ReiterU/DBS/data/20220526_P190_laqueus_DiI_L-F11/analysis/ants/F2M_1InverseWarp.nii.gz']\n",
      "\n"
     ]
    }
   ],
   "source": [
    "T.run()"
   ]
  },
  {
   "cell_type": "markdown",
   "metadata": {},
   "source": [
    "### Query region ID"
   ]
  },
  {
   "cell_type": "code",
   "execution_count": 6,
   "metadata": {},
   "outputs": [],
   "source": [
    "from probemapper import skeletonization"
   ]
  },
  {
   "cell_type": "code",
   "execution_count": 7,
   "metadata": {},
   "outputs": [],
   "source": [
    "df = pd.read_csv(os.path.join(tmpdir, \"channel_LUT.csv\"))\n",
    "coords = np.array([df[\"Z\"], df[\"Y\"], df[\"X\"]])"
   ]
  },
  {
   "cell_type": "code",
   "execution_count": 8,
   "metadata": {},
   "outputs": [],
   "source": [
    "regions = skeletonization.query_region_id2(coords,\n",
    "                     \"/bucket/ReiterU/DBS/atlas/O_Laqueues_v0.1/Slicer_3D/Segmentation.seg.nrrd\",\n",
    "                     100, coords.shape[1]-100, 10)"
   ]
  },
  {
   "cell_type": "code",
   "execution_count": 9,
   "metadata": {},
   "outputs": [],
   "source": [
    "df[\"Region\"] = regions"
   ]
  },
  {
   "cell_type": "code",
   "execution_count": 10,
   "metadata": {},
   "outputs": [],
   "source": [
    "df.insert(0, \"channel\", df.pop(\"channel\"))"
   ]
  },
  {
   "cell_type": "code",
   "execution_count": 11,
   "metadata": {
    "scrolled": true
   },
   "outputs": [
    {
     "data": {
      "text/html": [
       "<div>\n",
       "<style scoped>\n",
       "    .dataframe tbody tr th:only-of-type {\n",
       "        vertical-align: middle;\n",
       "    }\n",
       "\n",
       "    .dataframe tbody tr th {\n",
       "        vertical-align: top;\n",
       "    }\n",
       "\n",
       "    .dataframe thead th {\n",
       "        text-align: right;\n",
       "    }\n",
       "</style>\n",
       "<table border=\"1\" class=\"dataframe\">\n",
       "  <thead>\n",
       "    <tr style=\"text-align: right;\">\n",
       "      <th></th>\n",
       "      <th>channel</th>\n",
       "      <th>X</th>\n",
       "      <th>Y</th>\n",
       "      <th>Z</th>\n",
       "      <th>X_org</th>\n",
       "      <th>Y_org</th>\n",
       "      <th>Z_org</th>\n",
       "      <th>Region</th>\n",
       "    </tr>\n",
       "  </thead>\n",
       "  <tbody>\n",
       "    <tr>\n",
       "      <th>0</th>\n",
       "      <td>-50</td>\n",
       "      <td>1810.84</td>\n",
       "      <td>1893.350</td>\n",
       "      <td>556.801</td>\n",
       "      <td>1594.30</td>\n",
       "      <td>3144.690</td>\n",
       "      <td>764.069</td>\n",
       "      <td>3</td>\n",
       "    </tr>\n",
       "    <tr>\n",
       "      <th>1</th>\n",
       "      <td>-49</td>\n",
       "      <td>1812.64</td>\n",
       "      <td>1892.670</td>\n",
       "      <td>568.663</td>\n",
       "      <td>1594.31</td>\n",
       "      <td>3141.500</td>\n",
       "      <td>773.037</td>\n",
       "      <td>3</td>\n",
       "    </tr>\n",
       "    <tr>\n",
       "      <th>2</th>\n",
       "      <td>-48</td>\n",
       "      <td>1814.44</td>\n",
       "      <td>1891.940</td>\n",
       "      <td>580.563</td>\n",
       "      <td>1594.33</td>\n",
       "      <td>3138.320</td>\n",
       "      <td>782.006</td>\n",
       "      <td>3</td>\n",
       "    </tr>\n",
       "    <tr>\n",
       "      <th>3</th>\n",
       "      <td>-47</td>\n",
       "      <td>1816.24</td>\n",
       "      <td>1891.130</td>\n",
       "      <td>592.517</td>\n",
       "      <td>1594.34</td>\n",
       "      <td>3135.130</td>\n",
       "      <td>790.974</td>\n",
       "      <td>3</td>\n",
       "    </tr>\n",
       "    <tr>\n",
       "      <th>4</th>\n",
       "      <td>-46</td>\n",
       "      <td>1818.04</td>\n",
       "      <td>1890.250</td>\n",
       "      <td>604.528</td>\n",
       "      <td>1594.35</td>\n",
       "      <td>3131.940</td>\n",
       "      <td>799.942</td>\n",
       "      <td>3</td>\n",
       "    </tr>\n",
       "    <tr>\n",
       "      <th>...</th>\n",
       "      <td>...</td>\n",
       "      <td>...</td>\n",
       "      <td>...</td>\n",
       "      <td>...</td>\n",
       "      <td>...</td>\n",
       "      <td>...</td>\n",
       "      <td>...</td>\n",
       "      <td>...</td>\n",
       "    </tr>\n",
       "    <tr>\n",
       "      <th>367</th>\n",
       "      <td>317</td>\n",
       "      <td>2456.39</td>\n",
       "      <td>810.375</td>\n",
       "      <td>3319.490</td>\n",
       "      <td>1553.47</td>\n",
       "      <td>460.005</td>\n",
       "      <td>3015.860</td>\n",
       "      <td>4</td>\n",
       "    </tr>\n",
       "    <tr>\n",
       "      <th>368</th>\n",
       "      <td>318</td>\n",
       "      <td>2457.82</td>\n",
       "      <td>804.907</td>\n",
       "      <td>3325.780</td>\n",
       "      <td>1553.04</td>\n",
       "      <td>451.270</td>\n",
       "      <td>3020.530</td>\n",
       "      <td>4</td>\n",
       "    </tr>\n",
       "    <tr>\n",
       "      <th>369</th>\n",
       "      <td>319</td>\n",
       "      <td>2459.34</td>\n",
       "      <td>799.367</td>\n",
       "      <td>3332.510</td>\n",
       "      <td>1552.58</td>\n",
       "      <td>442.535</td>\n",
       "      <td>3025.220</td>\n",
       "      <td>4</td>\n",
       "    </tr>\n",
       "    <tr>\n",
       "      <th>370</th>\n",
       "      <td>320</td>\n",
       "      <td>2460.89</td>\n",
       "      <td>793.711</td>\n",
       "      <td>3339.640</td>\n",
       "      <td>1552.08</td>\n",
       "      <td>433.801</td>\n",
       "      <td>3029.920</td>\n",
       "      <td>4</td>\n",
       "    </tr>\n",
       "    <tr>\n",
       "      <th>371</th>\n",
       "      <td>321</td>\n",
       "      <td>2462.42</td>\n",
       "      <td>787.877</td>\n",
       "      <td>3346.960</td>\n",
       "      <td>1551.55</td>\n",
       "      <td>425.067</td>\n",
       "      <td>3034.650</td>\n",
       "      <td>4</td>\n",
       "    </tr>\n",
       "  </tbody>\n",
       "</table>\n",
       "<p>372 rows × 8 columns</p>\n",
       "</div>"
      ],
      "text/plain": [
       "     channel        X         Y         Z    X_org     Y_org     Z_org  Region\n",
       "0        -50  1810.84  1893.350   556.801  1594.30  3144.690   764.069       3\n",
       "1        -49  1812.64  1892.670   568.663  1594.31  3141.500   773.037       3\n",
       "2        -48  1814.44  1891.940   580.563  1594.33  3138.320   782.006       3\n",
       "3        -47  1816.24  1891.130   592.517  1594.34  3135.130   790.974       3\n",
       "4        -46  1818.04  1890.250   604.528  1594.35  3131.940   799.942       3\n",
       "..       ...      ...       ...       ...      ...       ...       ...     ...\n",
       "367      317  2456.39   810.375  3319.490  1553.47   460.005  3015.860       4\n",
       "368      318  2457.82   804.907  3325.780  1553.04   451.270  3020.530       4\n",
       "369      319  2459.34   799.367  3332.510  1552.58   442.535  3025.220       4\n",
       "370      320  2460.89   793.711  3339.640  1552.08   433.801  3029.920       4\n",
       "371      321  2462.42   787.877  3346.960  1551.55   425.067  3034.650       4\n",
       "\n",
       "[372 rows x 8 columns]"
      ]
     },
     "metadata": {},
     "output_type": "display_data"
    }
   ],
   "source": [
    "display(df)"
   ]
  },
  {
   "cell_type": "code",
   "execution_count": 12,
   "metadata": {},
   "outputs": [],
   "source": [
    "df.to_csv(os.path.join(tmpdir, \"channel_LUT.csv\"), index=False)"
   ]
  },
  {
   "cell_type": "code",
   "execution_count": 13,
   "metadata": {},
   "outputs": [],
   "source": [
    "sk = skeletonization.generate_skeleton_image(coords[:, 100:],\n",
    "                             \"/bucket/ReiterU/DBS/atlas/O_Laqueues_v0.1/Slicer_3D/Segmentation.seg.nrrd\",\n",
    "                             10)"
   ]
  },
  {
   "cell_type": "code",
   "execution_count": 14,
   "metadata": {},
   "outputs": [],
   "source": [
    "sk = sk.astype(\"uint8\")\n",
    "save_nifti(sk, os.path.join(tmpdir, \"probe_image.nii.gz\"), 1, 1, 1)"
   ]
  },
  {
   "cell_type": "code",
   "execution_count": 15,
   "metadata": {},
   "outputs": [
    {
     "data": {
      "text/plain": [
       "CompletedProcess(args=['scp', '-r', '/flash/ReiterU/tmp/P190/indexing', 'deigo:/bucket/ReiterU/DBS/data/20220526_P190_laqueus_DiI_L-F11/analysis'], returncode=0)"
      ]
     },
     "execution_count": 15,
     "metadata": {},
     "output_type": "execute_result"
    }
   ],
   "source": [
    "subprocess.run([\"scp\", \"-r\", tmpdir, f\"deigo:{resultdir}\"])"
   ]
  },
  {
   "cell_type": "code",
   "execution_count": null,
   "metadata": {},
   "outputs": [],
   "source": []
  }
 ],
 "metadata": {
  "kernelspec": {
   "display_name": "probemapper",
   "language": "python",
   "name": "probemapper"
  },
  "language_info": {
   "codemirror_mode": {
    "name": "ipython",
    "version": 3
   },
   "file_extension": ".py",
   "mimetype": "text/x-python",
   "name": "python",
   "nbconvert_exporter": "python",
   "pygments_lexer": "ipython3",
   "version": "3.7.3"
  }
 },
 "nbformat": 4,
 "nbformat_minor": 4
}
