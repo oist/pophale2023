{
 "cells": [
  {
   "cell_type": "code",
   "execution_count": 1,
   "metadata": {},
   "outputs": [],
   "source": [
    "from probemapper.registration import ANTSPointTransformation, ANTSTransformationStages\n",
    "from probemapper.io import save_nifti\n",
    "import os, subprocess\n",
    "import numpy as np\n",
    "import pandas as pd"
   ]
  },
  {
   "cell_type": "code",
   "execution_count": 2,
   "metadata": {},
   "outputs": [],
   "source": [
    "rootdir = \"/bucket/ReiterU/DBS/data/20220529_P191_laqueus_DiI_LM13/\"\n",
    "resultdir = os.path.join(rootdir, \"analysis\")\n",
    "if not os.path.exists(resultdir):\n",
    "    subprocess.run([\"ssh\", \"deigo\", \"mkdir\", resultdir])"
   ]
  },
  {
   "cell_type": "code",
   "execution_count": 3,
   "metadata": {},
   "outputs": [],
   "source": [
    "cwd = os.path.basename(os.getcwd())\n",
    "tmpdir = os.path.join(\"/flash/ReiterU/tmp/\", cwd, f\"indexing\")\n",
    "if not os.path.exists(tmpdir):\n",
    "    os.makedirs(tmpdir)"
   ]
  },
  {
   "cell_type": "markdown",
   "metadata": {},
   "source": [
    "### Transform channel coordinates"
   ]
  },
  {
   "cell_type": "code",
   "execution_count": 4,
   "metadata": {},
   "outputs": [],
   "source": [
    "T = ANTSPointTransformation(\n",
    "    ants_path=\"/apps/unit/ReiterU/ANTs/2.3.5/bin/\",\n",
    "    num_threads=8\n",
    ")\n",
    "T.set_transformations([\n",
    "    ANTSTransformationStages(transformation=os.path.join(rootdir, \"analysis/ants/F2M_0GenericAffine.mat\"), inverse=True),\n",
    "    ANTSTransformationStages(transformation=os.path.join(rootdir, \"analysis/ants/F2M_1InverseWarp.nii.gz\"), inverse=False),\n",
    "])\n",
    "T.set_moving_points(os.path.join(rootdir, \"analysis/skeleton/channel_skeleton.csv\"))\n",
    "T.set_outname(os.path.join(tmpdir, \"channel_LUT.csv\"))"
   ]
  },
  {
   "cell_type": "code",
   "execution_count": 5,
   "metadata": {},
   "outputs": [
    {
     "name": "stdout",
     "output_type": "stream",
     "text": [
      "['/apps/unit/ReiterU/ANTs/2.3.5/bin/antsApplyTransformsToPoints', '-d', '3', '-i', '/bucket/ReiterU/DBS/data/20220529_P191_laqueus_DiI_LM13/analysis/skeleton/channel_skeleton.csv', '-o', '/flash/ReiterU/tmp/P191/indexing/channel_LUT.csv', '-t', '[/bucket/ReiterU/DBS/data/20220529_P191_laqueus_DiI_LM13/analysis/ants/F2M_0GenericAffine.mat,1]', '-t', '/bucket/ReiterU/DBS/data/20220529_P191_laqueus_DiI_LM13/analysis/ants/F2M_1InverseWarp.nii.gz']\n",
      "\n"
     ]
    }
   ],
   "source": [
    "T.run()"
   ]
  },
  {
   "cell_type": "markdown",
   "metadata": {},
   "source": [
    "### Query region ID"
   ]
  },
  {
   "cell_type": "code",
   "execution_count": 6,
   "metadata": {},
   "outputs": [],
   "source": [
    "from probemapper import skeletonization"
   ]
  },
  {
   "cell_type": "code",
   "execution_count": 7,
   "metadata": {},
   "outputs": [],
   "source": [
    "df = pd.read_csv(os.path.join(tmpdir, \"channel_LUT.csv\"))\n",
    "coords = np.array([df[\"Z\"], df[\"Y\"], df[\"X\"]])"
   ]
  },
  {
   "cell_type": "code",
   "execution_count": 9,
   "metadata": {},
   "outputs": [],
   "source": [
    "regions = skeletonization.query_region_id2(coords,\n",
    "                     \"/bucket/ReiterU/DBS/atlas/O_Laqueus_v0.1/Slicer_3D/Segmentation.seg.nrrd\",\n",
    "                     100, coords.shape[1]-100, 10)"
   ]
  },
  {
   "cell_type": "code",
   "execution_count": 10,
   "metadata": {},
   "outputs": [],
   "source": [
    "df[\"Region\"] = regions"
   ]
  },
  {
   "cell_type": "code",
   "execution_count": 11,
   "metadata": {},
   "outputs": [],
   "source": [
    "df.insert(0, \"channel\", df.pop(\"channel\"))"
   ]
  },
  {
   "cell_type": "code",
   "execution_count": 12,
   "metadata": {
    "scrolled": true
   },
   "outputs": [
    {
     "data": {
      "text/html": [
       "<div>\n",
       "<style scoped>\n",
       "    .dataframe tbody tr th:only-of-type {\n",
       "        vertical-align: middle;\n",
       "    }\n",
       "\n",
       "    .dataframe tbody tr th {\n",
       "        vertical-align: top;\n",
       "    }\n",
       "\n",
       "    .dataframe thead th {\n",
       "        text-align: right;\n",
       "    }\n",
       "</style>\n",
       "<table border=\"1\" class=\"dataframe\">\n",
       "  <thead>\n",
       "    <tr style=\"text-align: right;\">\n",
       "      <th></th>\n",
       "      <th>channel</th>\n",
       "      <th>X</th>\n",
       "      <th>Y</th>\n",
       "      <th>Z</th>\n",
       "      <th>X_org</th>\n",
       "      <th>Y_org</th>\n",
       "      <th>Z_org</th>\n",
       "      <th>Region</th>\n",
       "    </tr>\n",
       "  </thead>\n",
       "  <tbody>\n",
       "    <tr>\n",
       "      <th>0</th>\n",
       "      <td>-100</td>\n",
       "      <td>2366.92</td>\n",
       "      <td>2665.38</td>\n",
       "      <td>1845.15</td>\n",
       "      <td>1641.95</td>\n",
       "      <td>2811.640</td>\n",
       "      <td>1555.96</td>\n",
       "      <td>8</td>\n",
       "    </tr>\n",
       "    <tr>\n",
       "      <th>1</th>\n",
       "      <td>-99</td>\n",
       "      <td>2368.43</td>\n",
       "      <td>2666.71</td>\n",
       "      <td>1855.71</td>\n",
       "      <td>1642.74</td>\n",
       "      <td>2807.610</td>\n",
       "      <td>1564.74</td>\n",
       "      <td>8</td>\n",
       "    </tr>\n",
       "    <tr>\n",
       "      <th>2</th>\n",
       "      <td>-98</td>\n",
       "      <td>2370.14</td>\n",
       "      <td>2667.84</td>\n",
       "      <td>1866.44</td>\n",
       "      <td>1643.53</td>\n",
       "      <td>2803.580</td>\n",
       "      <td>1573.52</td>\n",
       "      <td>8</td>\n",
       "    </tr>\n",
       "    <tr>\n",
       "      <th>3</th>\n",
       "      <td>-97</td>\n",
       "      <td>2371.99</td>\n",
       "      <td>2668.79</td>\n",
       "      <td>1877.25</td>\n",
       "      <td>1644.32</td>\n",
       "      <td>2799.550</td>\n",
       "      <td>1582.31</td>\n",
       "      <td>8</td>\n",
       "    </tr>\n",
       "    <tr>\n",
       "      <th>4</th>\n",
       "      <td>-96</td>\n",
       "      <td>2373.91</td>\n",
       "      <td>2669.59</td>\n",
       "      <td>1888.01</td>\n",
       "      <td>1645.12</td>\n",
       "      <td>2795.520</td>\n",
       "      <td>1591.09</td>\n",
       "      <td>8</td>\n",
       "    </tr>\n",
       "    <tr>\n",
       "      <th>...</th>\n",
       "      <td>...</td>\n",
       "      <td>...</td>\n",
       "      <td>...</td>\n",
       "      <td>...</td>\n",
       "      <td>...</td>\n",
       "      <td>...</td>\n",
       "      <td>...</td>\n",
       "      <td>...</td>\n",
       "    </tr>\n",
       "    <tr>\n",
       "      <th>346</th>\n",
       "      <td>246</td>\n",
       "      <td>2806.23</td>\n",
       "      <td>2040.13</td>\n",
       "      <td>4663.94</td>\n",
       "      <td>1831.29</td>\n",
       "      <td>605.292</td>\n",
       "      <td>4017.77</td>\n",
       "      <td>3</td>\n",
       "    </tr>\n",
       "    <tr>\n",
       "      <th>347</th>\n",
       "      <td>247</td>\n",
       "      <td>2806.94</td>\n",
       "      <td>2033.59</td>\n",
       "      <td>4669.76</td>\n",
       "      <td>1831.58</td>\n",
       "      <td>596.414</td>\n",
       "      <td>4021.97</td>\n",
       "      <td>3</td>\n",
       "    </tr>\n",
       "    <tr>\n",
       "      <th>348</th>\n",
       "      <td>248</td>\n",
       "      <td>2807.82</td>\n",
       "      <td>2027.00</td>\n",
       "      <td>4675.78</td>\n",
       "      <td>1831.98</td>\n",
       "      <td>587.513</td>\n",
       "      <td>4026.24</td>\n",
       "      <td>3</td>\n",
       "    </tr>\n",
       "    <tr>\n",
       "      <th>349</th>\n",
       "      <td>249</td>\n",
       "      <td>2808.91</td>\n",
       "      <td>2020.34</td>\n",
       "      <td>4682.06</td>\n",
       "      <td>1832.48</td>\n",
       "      <td>578.586</td>\n",
       "      <td>4030.57</td>\n",
       "      <td>3</td>\n",
       "    </tr>\n",
       "    <tr>\n",
       "      <th>350</th>\n",
       "      <td>250</td>\n",
       "      <td>2810.20</td>\n",
       "      <td>2013.59</td>\n",
       "      <td>4688.58</td>\n",
       "      <td>1833.08</td>\n",
       "      <td>569.632</td>\n",
       "      <td>4034.98</td>\n",
       "      <td>3</td>\n",
       "    </tr>\n",
       "  </tbody>\n",
       "</table>\n",
       "<p>351 rows × 8 columns</p>\n",
       "</div>"
      ],
      "text/plain": [
       "     channel        X        Y        Z    X_org     Y_org    Z_org  Region\n",
       "0       -100  2366.92  2665.38  1845.15  1641.95  2811.640  1555.96       8\n",
       "1        -99  2368.43  2666.71  1855.71  1642.74  2807.610  1564.74       8\n",
       "2        -98  2370.14  2667.84  1866.44  1643.53  2803.580  1573.52       8\n",
       "3        -97  2371.99  2668.79  1877.25  1644.32  2799.550  1582.31       8\n",
       "4        -96  2373.91  2669.59  1888.01  1645.12  2795.520  1591.09       8\n",
       "..       ...      ...      ...      ...      ...       ...      ...     ...\n",
       "346      246  2806.23  2040.13  4663.94  1831.29   605.292  4017.77       3\n",
       "347      247  2806.94  2033.59  4669.76  1831.58   596.414  4021.97       3\n",
       "348      248  2807.82  2027.00  4675.78  1831.98   587.513  4026.24       3\n",
       "349      249  2808.91  2020.34  4682.06  1832.48   578.586  4030.57       3\n",
       "350      250  2810.20  2013.59  4688.58  1833.08   569.632  4034.98       3\n",
       "\n",
       "[351 rows x 8 columns]"
      ]
     },
     "metadata": {},
     "output_type": "display_data"
    }
   ],
   "source": [
    "display(df)"
   ]
  },
  {
   "cell_type": "code",
   "execution_count": 13,
   "metadata": {},
   "outputs": [],
   "source": [
    "df.to_csv(os.path.join(tmpdir, \"channel_LUT.csv\"), index=False)"
   ]
  },
  {
   "cell_type": "code",
   "execution_count": 15,
   "metadata": {},
   "outputs": [],
   "source": [
    "sk = skeletonization.generate_skeleton_image(coords[:, 100:],\n",
    "                             \"/bucket/ReiterU/DBS/atlas/O_Laqueus_v0.1/Slicer_3D/Segmentation.seg.nrrd\",\n",
    "                             10)"
   ]
  },
  {
   "cell_type": "code",
   "execution_count": 16,
   "metadata": {},
   "outputs": [],
   "source": [
    "sk = sk.astype(\"uint8\")\n",
    "save_nifti(sk, os.path.join(tmpdir, \"probe_image.nii.gz\"), 1, 1, 1)"
   ]
  },
  {
   "cell_type": "code",
   "execution_count": 17,
   "metadata": {},
   "outputs": [
    {
     "data": {
      "text/plain": [
       "CompletedProcess(args=['scp', '-r', '/flash/ReiterU/tmp/P191/indexing', 'deigo:/bucket/ReiterU/DBS/data/20220529_P191_laqueus_DiI_LM13/analysis'], returncode=0)"
      ]
     },
     "execution_count": 17,
     "metadata": {},
     "output_type": "execute_result"
    }
   ],
   "source": [
    "subprocess.run([\"scp\", \"-r\", tmpdir, f\"deigo:{resultdir}\"])"
   ]
  },
  {
   "cell_type": "code",
   "execution_count": null,
   "metadata": {},
   "outputs": [],
   "source": []
  }
 ],
 "metadata": {
  "kernelspec": {
   "display_name": "probemapper",
   "language": "python",
   "name": "probemapper"
  },
  "language_info": {
   "codemirror_mode": {
    "name": "ipython",
    "version": 3
   },
   "file_extension": ".py",
   "mimetype": "text/x-python",
   "name": "python",
   "nbconvert_exporter": "python",
   "pygments_lexer": "ipython3",
   "version": "3.7.3"
  }
 },
 "nbformat": 4,
 "nbformat_minor": 4
}
